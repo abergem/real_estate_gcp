{
 "cells": [
  {
   "cell_type": "code",
   "execution_count": 22,
   "metadata": {},
   "outputs": [],
   "source": [
    "from bs4 import BeautifulSoup\n",
    "import requests\n",
    "from lxml import html\n",
    "from lxml.cssselect import CSSSelector\n",
    "import re"
   ]
  },
  {
   "cell_type": "code",
   "execution_count": 139,
   "metadata": {},
   "outputs": [],
   "source": [
    "url = 'https://www.finn.no/realestate/homes/search.html?location=0.20061&page=2'"
   ]
  },
  {
   "cell_type": "code",
   "execution_count": 145,
   "metadata": {},
   "outputs": [],
   "source": [
    "response = requests.get(url)"
   ]
  },
  {
   "cell_type": "code",
   "execution_count": 146,
   "metadata": {},
   "outputs": [],
   "source": [
    "soup = BeautifulSoup(response.content, 'html.parser')"
   ]
  },
  {
   "cell_type": "code",
   "execution_count": 147,
   "metadata": {},
   "outputs": [],
   "source": [
    "links = []\n",
    "for tag in page_results:\n",
    "    res = tag.find_all('a')\n",
    "    try:\n",
    "        links.append(res[0].get('href'))\n",
    "    except IndexError:\n",
    "        pass\n",
    "links = ['https://finn.no'+l for l in links if 'finnkode' in l]"
   ]
  },
  {
   "cell_type": "code",
   "execution_count": 246,
   "metadata": {},
   "outputs": [],
   "source": [
    "url = links[1]"
   ]
  },
  {
   "cell_type": "code",
   "execution_count": 262,
   "metadata": {},
   "outputs": [
    {
     "name": "stdout",
     "output_type": "stream",
     "text": [
      "https://finn.no/realestate/homes/ad.html?finnkode=167025183\n",
      "\n",
      "[]\n",
      "[]\n",
      "\n",
      "['Boligtype', 'Tomteareal', 'Fellesformue']\n",
      "['Leilighet', '33931 m²', '28\\xa0999 kr']\n",
      "\n",
      "['Eieform', 'Bruttoareal']\n",
      "['Andel', '73 m²']\n",
      "\n",
      "['Soverom']\n",
      "['3']\n",
      "\n",
      "['Primærrom']\n",
      "['66 m²']\n",
      "\n",
      "['Bruksareal']\n",
      "['66 m²']\n",
      "\n",
      "['Etasje']\n",
      "['3']\n",
      "\n",
      "['Byggeår']\n",
      "['1962']\n",
      "\n",
      "['Rom']\n",
      "['4']\n",
      "\n",
      "[]\n",
      "[]\n",
      "\n",
      "[]\n",
      "[]\n"
     ]
    }
   ],
   "source": [
    "# TMP\n",
    "url = links[16]\n",
    "print(url)\n",
    "page = requests.get(url)\n",
    "tree = html.fromstring(page.content)\n",
    "for i in range(11):\n",
    "    print('')\n",
    "    print(tree.xpath(f'//section[@class=\"panel\"]//dt[{i}]/text()'))\n",
    "    print(tree.xpath(f'//section[@class=\"panel\"]//dd[{i}]/text()'))"
   ]
  },
  {
   "cell_type": "code",
   "execution_count": 215,
   "metadata": {},
   "outputs": [],
   "source": [
    "#url = 'https://www.finn.no/realestate/homes/ad.html?finnkode=171155350'"
   ]
  },
  {
   "cell_type": "code",
   "execution_count": 230,
   "metadata": {},
   "outputs": [
    {
     "name": "stdout",
     "output_type": "stream",
     "text": [
      "['Boligtype', 'Rom', 'Formuesverdi', 'Mobil']\n",
      "['Leilighet', '7', '1\\xa0286\\xa0425 kr', '\\n                    ', '\\n                        ']\n"
     ]
    }
   ],
   "source": [
    "page = requests.get(url)\n",
    "tree = html.fromstring(page.content)"
   ]
  },
  {
   "cell_type": "code",
   "execution_count": 218,
   "metadata": {},
   "outputs": [
    {
     "data": {
      "text/plain": [
       "'Trondheimsveien 8, 0560 Oslo'"
      ]
     },
     "execution_count": 218,
     "metadata": {},
     "output_type": "execute_result"
    }
   ],
   "source": [
    "tree.xpath('//section[@class=\"panel\"]//p[@class=\"u-caption\"]/text()')[0]"
   ]
  },
  {
   "cell_type": "code",
   "execution_count": 219,
   "metadata": {},
   "outputs": [
    {
     "data": {
      "text/plain": [
       "'6600000'"
      ]
     },
     "execution_count": 219,
     "metadata": {},
     "output_type": "execute_result"
    }
   ],
   "source": [
    "extract_digits(tree.xpath('//div[@class=\"panel\"]//span[@class=\"u-t3\"]/text()')[0])"
   ]
  },
  {
   "cell_type": "code",
   "execution_count": 220,
   "metadata": {},
   "outputs": [
    {
     "name": "stdout",
     "output_type": "stream",
     "text": [
      "Fellesgjeld\n",
      "76000\n",
      "Omkostninger\n",
      "168242\n",
      "Totalpris\n",
      "6844242\n",
      "Felleskost/mnd.\n",
      "3687\n"
     ]
    }
   ],
   "source": [
    "d = {}\n",
    "for i, _ in enumerate(tree.xpath('//div[@class=\"panel\"]//dl[@class=\"definition-list\"]/dt')):\n",
    "    field = tree.xpath(f'//div[@class=\"panel\"]//dl[@class=\"definition-list\"]/dt[{i+1}]/text()')[0]\n",
    "    value = extract_digits(tree.xpath(f'//div[@class=\"panel\"]//dl[@class=\"definition-list\"]/dd[{i+1}]/text()')[0])\n",
    "    print(field)\n",
    "    print(value)"
   ]
  },
  {
   "cell_type": "code",
   "execution_count": 221,
   "metadata": {},
   "outputs": [
    {
     "data": {
      "text/plain": [
       "{'joint_debt': '76000',\n",
       " 'fees': '168242',\n",
       " 'total_price': '6844242',\n",
       " 'overheads': '3687'}"
      ]
     },
     "execution_count": 221,
     "metadata": {},
     "output_type": "execute_result"
    }
   ],
   "source": [
    "d = {}\n",
    "for i, _ in enumerate(tree.xpath('//div[@class=\"panel\"]//dl[@class=\"definition-list\"]/dt')):\n",
    "    field = tree.xpath(f'//div[@class=\"panel\"]//dl[@class=\"definition-list\"]/dt[{i+1}]/text()')[0]\n",
    "    value = extract_digits(tree.xpath(f'//div[@class=\"panel\"]//dl[@class=\"definition-list\"]/dd[{i+1}]/text()')[0])\n",
    "    if field == 'Omkostninger':\n",
    "        d['fees'] = value\n",
    "    elif field == 'Totalpris':\n",
    "        d['total_price'] = value\n",
    "    elif field == 'Felleskost/mnd.':\n",
    "        d['overheads'] = value\n",
    "    elif field == 'Fellesgjeld':\n",
    "        d['joint_debt'] = value\n",
    "d"
   ]
  },
  {
   "cell_type": "code",
   "execution_count": 278,
   "metadata": {},
   "outputs": [
    {
     "data": {
      "text/plain": [
       "['Boligtype', 'Tomteareal', 'Fellesformue']"
      ]
     },
     "execution_count": 278,
     "metadata": {},
     "output_type": "execute_result"
    }
   ],
   "source": [
    "tree.xpath(f'//section[@class=\"panel\"]//dt[{1}]/text()')"
   ]
  },
  {
   "cell_type": "code",
   "execution_count": 265,
   "metadata": {},
   "outputs": [],
   "source": [
    "selected_fields = ['Boligtype', 'Eieform', 'Soverom', 'Primærrom', 'Bruksareal', 'Etasje',\n",
    "                  'Byggeår', 'Energimerking', 'Rom', 'Tomteareal', 'Bruttoareal', 'Fellesformue', 'Formuesverdi']"
   ]
  },
  {
   "cell_type": "code",
   "execution_count": 284,
   "metadata": {},
   "outputs": [],
   "source": [
    "fields = []\n",
    "values = []\n",
    "final_fields = []\n",
    "final_values = []\n",
    "for i, _ in enumerate(tree.xpath('//section[@class=\"panel\"]//dt')):\n",
    "    fields = tree.xpath(f'//section[@class=\"panel\"]//dt[{i+1}]/text()')\n",
    "    values = tree.xpath(f'//section[@class=\"panel\"]//dd[{i+1}]/text()')\n",
    "    for field in fields:\n",
    "        if field in selected_fields:\n",
    "            final_fields.append(field)\n",
    "            final_values.append(values[fields.index(field)])"
   ]
  },
  {
   "cell_type": "code",
   "execution_count": 285,
   "metadata": {},
   "outputs": [
    {
     "data": {
      "text/plain": [
       "['Boligtype',\n",
       " 'Tomteareal',\n",
       " 'Fellesformue',\n",
       " 'Eieform',\n",
       " 'Bruttoareal',\n",
       " 'Soverom',\n",
       " 'Primærrom',\n",
       " 'Bruksareal',\n",
       " 'Etasje',\n",
       " 'Byggeår',\n",
       " 'Rom']"
      ]
     },
     "execution_count": 285,
     "metadata": {},
     "output_type": "execute_result"
    }
   ],
   "source": [
    "final_fields"
   ]
  },
  {
   "cell_type": "code",
   "execution_count": 287,
   "metadata": {},
   "outputs": [
    {
     "name": "stdout",
     "output_type": "stream",
     "text": [
      "Boligtype Leilighet\n",
      "Tomteareal 33931 m²\n",
      "Fellesformue 28 999 kr\n",
      "Eieform Andel\n",
      "Bruttoareal 73 m²\n",
      "Soverom 3\n",
      "Primærrom 66 m²\n",
      "Bruksareal 66 m²\n",
      "Etasje 3\n",
      "Byggeår 1962\n",
      "Rom 4\n"
     ]
    }
   ],
   "source": [
    "for field, value in zip(final_fields, final_values):\n",
    "    print(field, value)\n",
    "    d = extract_field_value_pairs(field, value, d)"
   ]
  },
  {
   "cell_type": "code",
   "execution_count": 288,
   "metadata": {},
   "outputs": [
    {
     "data": {
      "text/plain": [
       "{'joint_debt': '76000',\n",
       " 'fees': '168242',\n",
       " 'total_price': '6844242',\n",
       " 'overheads': '3687',\n",
       " 'type': 'Leilighet',\n",
       " 'lot_space': '33931',\n",
       " 'joint_capital': '28999',\n",
       " 'tenure': 'Andel',\n",
       " 'gross_floor_space': '73',\n",
       " 'bedrooms': '3',\n",
       " 'net_internal_area': '66',\n",
       " 'gross_internal_area': '66',\n",
       " 'floor': '3',\n",
       " 'year_of_construction': '1962',\n",
       " 'rooms': '4'}"
      ]
     },
     "execution_count": 288,
     "metadata": {},
     "output_type": "execute_result"
    }
   ],
   "source": [
    "d"
   ]
  },
  {
   "cell_type": "code",
   "execution_count": 228,
   "metadata": {},
   "outputs": [
    {
     "name": "stdout",
     "output_type": "stream",
     "text": [
      "['Byggeår']\n",
      "['1892']\n"
     ]
    }
   ],
   "source": [
    "i = 7\n",
    "print(tree.xpath(f'//section[@class=\"panel\"]//dt[{i}]/text()'))\n",
    "print(tree.xpath(f'//section[@class=\"panel\"]//dd[{i}]/text()'))"
   ]
  },
  {
   "cell_type": "code",
   "execution_count": 188,
   "metadata": {},
   "outputs": [
    {
     "data": {
      "text/plain": [
       "['66 m²']"
      ]
     },
     "execution_count": 188,
     "metadata": {},
     "output_type": "execute_result"
    }
   ],
   "source": []
  },
  {
   "cell_type": "code",
   "execution_count": 207,
   "metadata": {},
   "outputs": [
    {
     "data": {
      "text/plain": [
       "{'joint_debt': '367000',\n",
       " 'fees': '1132',\n",
       " 'total_price': '2858132',\n",
       " 'overheads': '5489',\n",
       " 'type': 'Leilighet',\n",
       " 'rooms': '3',\n",
       " 'asset_value': '992\\xa0498 kr',\n",
       " 'tenure': '\\n                    ',\n",
       " 'lot_space': '',\n",
       " 'bedrooms': 'Andel',\n",
       " 'gross_floor_space': '27418',\n",
       " 'net_internal_area': '2',\n",
       " 'gross_internal_area': '77',\n",
       " 'floor': '66 m²',\n",
       " 'year_of_construction': '70 m²',\n",
       " 'energy_class': ''}"
      ]
     },
     "execution_count": 207,
     "metadata": {},
     "output_type": "execute_result"
    }
   ],
   "source": [
    "d"
   ]
  },
  {
   "cell_type": "code",
   "execution_count": 137,
   "metadata": {},
   "outputs": [],
   "source": [
    "d['last_edited'] = tree.xpath('//section[@aria-labelledby=\"ad-info-heading\"]//tr/td/text()')[0]"
   ]
  },
  {
   "cell_type": "code",
   "execution_count": 138,
   "metadata": {},
   "outputs": [
    {
     "data": {
      "text/plain": [
       "{'fees': '389902',\n",
       " 'total_price': '15289902',\n",
       " 'overheads': '5100',\n",
       " 'last_edited': '25. feb 2020 17:32'}"
      ]
     },
     "execution_count": 138,
     "metadata": {},
     "output_type": "execute_result"
    }
   ],
   "source": [
    "d"
   ]
  },
  {
   "cell_type": "code",
   "execution_count": 126,
   "metadata": {},
   "outputs": [],
   "source": [
    "def extract_digits(string):\n",
    "    return re.sub('\\D', '', string)\n",
    "\n",
    "def extract_field_value_pairs(field: str, value: str, d: dict) -> dict:\n",
    "    # What is usually in 'key info'\n",
    "    if field == 'Boligtype':\n",
    "        d['type'] = value\n",
    "    elif field == 'Eieform':\n",
    "        d['tenure'] = value\n",
    "    elif field == 'Soverom':\n",
    "        d['bedrooms'] = value\n",
    "    elif field == 'Primærrom':\n",
    "        d['net_internal_area'] = extract_digits(value)\n",
    "    elif field == 'Bruksareal':\n",
    "        d['gross_internal_area'] = extract_digits(value)\n",
    "    elif field == 'Etasje':\n",
    "        d['floor'] = value\n",
    "    elif field == 'Byggeår':\n",
    "        d['year_of_construction'] = value\n",
    "    elif field == 'Energimerking':\n",
    "        d['energy_class'] = '' # TODO \n",
    "    # What is usually in 'more key info', but could come here\n",
    "    if field == 'Rom':\n",
    "        d['rooms'] = value\n",
    "    elif field == 'Tomteareal':\n",
    "        d['lot_space'] = extract_digits(value)\n",
    "    elif field == 'Bruttoareal':\n",
    "        d['gross_floor_space'] = extract_digits(value)\n",
    "    elif field == 'Fellesformue':\n",
    "        d['joint_capital'] = extract_digits(value)\n",
    "    elif field == 'Formuesverdi':\n",
    "        d['asset_value'] = extract_digits(value)\n",
    "\n",
    "    return d"
   ]
  }
 ],
 "metadata": {
  "kernelspec": {
   "display_name": "Python 3",
   "language": "python",
   "name": "python3"
  },
  "language_info": {
   "codemirror_mode": {
    "name": "ipython",
    "version": 3
   },
   "file_extension": ".py",
   "mimetype": "text/x-python",
   "name": "python",
   "nbconvert_exporter": "python",
   "pygments_lexer": "ipython3",
   "version": "3.6.8"
  }
 },
 "nbformat": 4,
 "nbformat_minor": 2
}
